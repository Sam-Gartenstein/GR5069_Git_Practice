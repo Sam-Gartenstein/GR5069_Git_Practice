{
 "cells": [
  {
   "cell_type": "code",
   "execution_count": 0,
   "metadata": {
    "application/vnd.databricks.v1+cell": {
     "cellMetadata": {},
     "inputWidgets": {},
     "nuid": "8d5d575d-623a-436e-83d5-9ba57e8e70f8",
     "showTitle": false,
     "title": ""
    }
   },
   "outputs": [],
   "source": [
    "import numpy as np"
   ]
  },
  {
   "cell_type": "markdown",
   "metadata": {
    "application/vnd.databricks.v1+cell": {
     "cellMetadata": {},
     "inputWidgets": {},
     "nuid": "d874dc84-3762-416c-bc0c-10a0324147fc",
     "showTitle": false,
     "title": ""
    }
   },
   "source": [
    "# Week 1: Intro to Python"
   ]
  },
  {
   "cell_type": "markdown",
   "metadata": {
    "application/vnd.databricks.v1+cell": {
     "cellMetadata": {},
     "inputWidgets": {},
     "nuid": "c1caa9d6-999f-45b7-a263-18c6c88fae02",
     "showTitle": false,
     "title": ""
    }
   },
   "source": [
    "### Table of contents\n",
    "* [Python as a calculator](#bullet1)\n",
    "* [Boolean data types](#bullet2)\n",
    "* [String data types](#bullet3)\n",
    "* [Numeric data types](#bullet4)\n",
    "* [Storing values in variables](#bullet5)\n",
    "* [Commenting your code!](#bullet6)\n",
    "* [List objects](#bullet7)\n",
    "* [Tuple objects](#bullet8)\n",
    "* [Dictionary and set objects](#bullet9)\n",
    "* [Built in Functions](#bullet10)\n",
    "* [Methods](#bullet11)\n",
    "* [Installing other Python packages](#bullet12)"
   ]
  },
  {
   "cell_type": "markdown",
   "metadata": {
    "application/vnd.databricks.v1+cell": {
     "cellMetadata": {},
     "inputWidgets": {},
     "nuid": "cdf34b9f-d3a2-4c04-ad86-64bcd5dfbf21",
     "showTitle": false,
     "title": ""
    }
   },
   "source": [
    "## 1. Python as a calculator <a class=\"anchor\" id=\"bullet1\"></a>"
   ]
  },
  {
   "cell_type": "code",
   "execution_count": 0,
   "metadata": {
    "application/vnd.databricks.v1+cell": {
     "cellMetadata": {},
     "inputWidgets": {},
     "nuid": "f5583f98-aeb9-4248-bada-29c031e99bcb",
     "showTitle": false,
     "title": ""
    }
   },
   "outputs": [],
   "source": [
    "1+1"
   ]
  },
  {
   "cell_type": "code",
   "execution_count": 0,
   "metadata": {
    "application/vnd.databricks.v1+cell": {
     "cellMetadata": {},
     "inputWidgets": {},
     "nuid": "e2180cb6-91ba-4d77-893b-ddfddc689dfa",
     "showTitle": false,
     "title": ""
    }
   },
   "outputs": [],
   "source": [
    "1+2*3"
   ]
  },
  {
   "cell_type": "code",
   "execution_count": 0,
   "metadata": {
    "application/vnd.databricks.v1+cell": {
     "cellMetadata": {},
     "inputWidgets": {},
     "nuid": "69769d78-4d4e-428d-a64b-192d91ab8d57",
     "showTitle": false,
     "title": ""
    }
   },
   "outputs": [],
   "source": [
    "(1+2)*3"
   ]
  },
  {
   "cell_type": "markdown",
   "metadata": {
    "application/vnd.databricks.v1+cell": {
     "cellMetadata": {},
     "inputWidgets": {},
     "nuid": "a17819f6-d872-461d-b656-23c9463cff0f",
     "showTitle": false,
     "title": ""
    }
   },
   "source": [
    "##### + is called an operator. Like all programing langugages, Python includes many types of operators: +, -, *, /, **"
   ]
  },
  {
   "cell_type": "markdown",
   "metadata": {
    "application/vnd.databricks.v1+cell": {
     "cellMetadata": {},
     "inputWidgets": {},
     "nuid": "da77fcff-a0c5-40c3-8623-354cf7320f01",
     "showTitle": false,
     "title": ""
    }
   },
   "source": [
    "## 2. Boolean data types (True / False) <a class=\"anchor\" id=\"bullet2\"></a>"
   ]
  },
  {
   "cell_type": "code",
   "execution_count": 0,
   "metadata": {
    "application/vnd.databricks.v1+cell": {
     "cellMetadata": {},
     "inputWidgets": {},
     "nuid": "d54b9667-45c2-401e-b41a-ca33a23be620",
     "showTitle": false,
     "title": ""
    }
   },
   "outputs": [],
   "source": [
    "2 * 2 == 4"
   ]
  },
  {
   "cell_type": "code",
   "execution_count": 0,
   "metadata": {
    "application/vnd.databricks.v1+cell": {
     "cellMetadata": {},
     "inputWidgets": {},
     "nuid": "1b382579-b3c8-4efd-b4ba-8a564a336d2a",
     "showTitle": false,
     "title": ""
    }
   },
   "outputs": [],
   "source": [
    "(3 ** 3) == 27  # Note the ** operator is an exponent operator! This is 3^3"
   ]
  },
  {
   "cell_type": "code",
   "execution_count": 0,
   "metadata": {
    "application/vnd.databricks.v1+cell": {
     "cellMetadata": {},
     "inputWidgets": {},
     "nuid": "8718ab7f-3edd-4163-be48-447f3efca11c",
     "showTitle": false,
     "title": ""
    }
   },
   "outputs": [],
   "source": [
    "(3 ** 2)"
   ]
  },
  {
   "cell_type": "code",
   "execution_count": 0,
   "metadata": {
    "application/vnd.databricks.v1+cell": {
     "cellMetadata": {},
     "inputWidgets": {},
     "nuid": "5921fd79-81fd-46f7-8892-08be5ef10c66",
     "showTitle": false,
     "title": ""
    }
   },
   "outputs": [],
   "source": [
    "type(False)"
   ]
  },
  {
   "cell_type": "markdown",
   "metadata": {
    "application/vnd.databricks.v1+cell": {
     "cellMetadata": {},
     "inputWidgets": {},
     "nuid": "8c31fa7d-49a8-4196-88b3-b238d7aca107",
     "showTitle": false,
     "title": ""
    }
   },
   "source": [
    "## 3. String data types <a class=\"anchor\" id=\"bullet3\"></a>"
   ]
  },
  {
   "cell_type": "code",
   "execution_count": 0,
   "metadata": {
    "application/vnd.databricks.v1+cell": {
     "cellMetadata": {},
     "inputWidgets": {},
     "nuid": "579e4cbe-0983-4ae2-a94d-2d0e59c45521",
     "showTitle": false,
     "title": ""
    }
   },
   "outputs": [],
   "source": [
    "'string'"
   ]
  },
  {
   "cell_type": "code",
   "execution_count": 0,
   "metadata": {
    "application/vnd.databricks.v1+cell": {
     "cellMetadata": {},
     "inputWidgets": {},
     "nuid": "513a39b4-6d05-41c1-9602-7cd176f6bad3",
     "showTitle": false,
     "title": ""
    }
   },
   "outputs": [],
   "source": [
    "\"string\""
   ]
  },
  {
   "cell_type": "code",
   "execution_count": 0,
   "metadata": {
    "application/vnd.databricks.v1+cell": {
     "cellMetadata": {},
     "inputWidgets": {},
     "nuid": "64ae4c85-95d5-471d-bc4e-8668d01c1eef",
     "showTitle": false,
     "title": ""
    }
   },
   "outputs": [],
   "source": [
    "type(\"string\")"
   ]
  },
  {
   "cell_type": "markdown",
   "metadata": {
    "application/vnd.databricks.v1+cell": {
     "cellMetadata": {},
     "inputWidgets": {},
     "nuid": "5601da23-fcbc-4e2e-995e-a270dea5db25",
     "showTitle": false,
     "title": ""
    }
   },
   "source": [
    "## 4. Numeric data types <a class=\"anchor\" id=\"bullet4\"></a>"
   ]
  },
  {
   "cell_type": "markdown",
   "metadata": {
    "application/vnd.databricks.v1+cell": {
     "cellMetadata": {},
     "inputWidgets": {},
     "nuid": "1f789203-1e63-4d4b-b28b-eb180a3a9113",
     "showTitle": false,
     "title": ""
    }
   },
   "source": [
    "For numeric data, Python has a \"int\" and \"float\" (ie decimal) data type"
   ]
  },
  {
   "cell_type": "code",
   "execution_count": 0,
   "metadata": {
    "application/vnd.databricks.v1+cell": {
     "cellMetadata": {},
     "inputWidgets": {},
     "nuid": "acdbbdb6-b18c-40ea-96bd-24184c7457a3",
     "showTitle": false,
     "title": ""
    }
   },
   "outputs": [],
   "source": [
    "5 + 5"
   ]
  },
  {
   "cell_type": "code",
   "execution_count": 0,
   "metadata": {
    "application/vnd.databricks.v1+cell": {
     "cellMetadata": {},
     "inputWidgets": {},
     "nuid": "224a4259-abbc-4ef7-8d4b-22c80e0537d4",
     "showTitle": false,
     "title": ""
    }
   },
   "outputs": [],
   "source": [
    "type(5 + 5)"
   ]
  },
  {
   "cell_type": "code",
   "execution_count": 0,
   "metadata": {
    "application/vnd.databricks.v1+cell": {
     "cellMetadata": {},
     "inputWidgets": {},
     "nuid": "7cd22ee3-daf5-4d46-8f90-2cc15a30ba15",
     "showTitle": false,
     "title": ""
    }
   },
   "outputs": [],
   "source": [
    "type(3.24)"
   ]
  },
  {
   "cell_type": "code",
   "execution_count": 0,
   "metadata": {
    "application/vnd.databricks.v1+cell": {
     "cellMetadata": {},
     "inputWidgets": {},
     "nuid": "a93f87d3-706e-43fe-af12-81e1bf37e822",
     "showTitle": false,
     "title": ""
    }
   },
   "outputs": [],
   "source": [
    "print(63/8)"
   ]
  },
  {
   "cell_type": "markdown",
   "metadata": {
    "application/vnd.databricks.v1+cell": {
     "cellMetadata": {},
     "inputWidgets": {},
     "nuid": "0eef0160-3d6d-4724-a9a3-0fd323360aba",
     "showTitle": false,
     "title": ""
    }
   },
   "source": [
    "## 5. Storing values in variables <a class=\"anchor\" id=\"bullet5\"></a>"
   ]
  },
  {
   "cell_type": "markdown",
   "metadata": {
    "application/vnd.databricks.v1+cell": {
     "cellMetadata": {},
     "inputWidgets": {},
     "nuid": "b6978a10-8eb7-4597-bc9c-3d8486356dbf",
     "showTitle": false,
     "title": ""
    }
   },
   "source": [
    "* A variable is a name for a value. \n",
    "* We can create a new variable by assigning a value to it with `=`, which is what we call the assignment operator in Python. \n",
    "* Once you create a variable, it's value is said to be \"initialized\" into your environment\n",
    "* You cannot use a space within a variable name, use `_` in place of spaces\n",
    "* Variable names cannot start with a number, nor can they contain a `.`"
   ]
  },
  {
   "cell_type": "code",
   "execution_count": 0,
   "metadata": {
    "application/vnd.databricks.v1+cell": {
     "cellMetadata": {},
     "inputWidgets": {},
     "nuid": "1df8e24e-d60d-4a39-b3ed-c0e7b7d2e6ab",
     "showTitle": false,
     "title": ""
    }
   },
   "outputs": [],
   "source": [
    "width = 5\n",
    "width"
   ]
  },
  {
   "cell_type": "code",
   "execution_count": 0,
   "metadata": {
    "application/vnd.databricks.v1+cell": {
     "cellMetadata": {},
     "inputWidgets": {},
     "nuid": "bba40079-b269-4946-bff2-51168f779692",
     "showTitle": false,
     "title": ""
    }
   },
   "outputs": [],
   "source": [
    "width * width # We can do arithmetic with variables"
   ]
  },
  {
   "cell_type": "code",
   "execution_count": 0,
   "metadata": {
    "application/vnd.databricks.v1+cell": {
     "cellMetadata": {},
     "inputWidgets": {},
     "nuid": "796b55fe-48b2-4071-ab96-e7f5d941aec3",
     "showTitle": false,
     "title": ""
    }
   },
   "outputs": [],
   "source": [
    "area = width * width  # We can store the results of arithmetic in another variable\n",
    "area"
   ]
  },
  {
   "cell_type": "code",
   "execution_count": 0,
   "metadata": {
    "application/vnd.databricks.v1+cell": {
     "cellMetadata": {},
     "inputWidgets": {},
     "nuid": "a2be20da-1eb1-40f8-82c1-f9faa52322f4",
     "showTitle": false,
     "title": ""
    }
   },
   "outputs": [],
   "source": [
    "width = 10   # We can change a variables value by reassigning a value to it\n",
    "width"
   ]
  },
  {
   "cell_type": "code",
   "execution_count": 0,
   "metadata": {
    "application/vnd.databricks.v1+cell": {
     "cellMetadata": {},
     "inputWidgets": {},
     "nuid": "67e3917e-3665-44d6-aaa7-c526d6313044",
     "showTitle": false,
     "title": ""
    }
   },
   "outputs": [],
   "source": [
    "area  # The value of area hasn't been updated, and won't be until we reassign the area variable"
   ]
  },
  {
   "cell_type": "code",
   "execution_count": 0,
   "metadata": {
    "application/vnd.databricks.v1+cell": {
     "cellMetadata": {},
     "inputWidgets": {},
     "nuid": "3a9e3eb2-28bd-4761-b784-a6e45cbed0a9",
     "showTitle": false,
     "title": ""
    }
   },
   "outputs": [],
   "source": [
    "pre_test_score = 96"
   ]
  },
  {
   "cell_type": "code",
   "execution_count": 0,
   "metadata": {
    "application/vnd.databricks.v1+cell": {
     "cellMetadata": {},
     "inputWidgets": {},
     "nuid": "53b949e7-d2c0-4800-887a-bdbf73779286",
     "showTitle": false,
     "title": ""
    }
   },
   "outputs": [],
   "source": [
    "print(pre_test_score)"
   ]
  },
  {
   "cell_type": "code",
   "execution_count": 0,
   "metadata": {
    "application/vnd.databricks.v1+cell": {
     "cellMetadata": {},
     "inputWidgets": {},
     "nuid": "3de369d8-5bfe-439a-abcc-ab37107f7b30",
     "showTitle": false,
     "title": ""
    }
   },
   "outputs": [],
   "source": [
    "4test = 4"
   ]
  },
  {
   "cell_type": "code",
   "execution_count": 0,
   "metadata": {
    "application/vnd.databricks.v1+cell": {
     "cellMetadata": {},
     "inputWidgets": {},
     "nuid": "e35b97ea-6098-44f4-a565-79d76f9565e7",
     "showTitle": false,
     "title": ""
    }
   },
   "outputs": [],
   "source": [
    "test4 = 5"
   ]
  },
  {
   "cell_type": "code",
   "execution_count": 0,
   "metadata": {
    "application/vnd.databricks.v1+cell": {
     "cellMetadata": {},
     "inputWidgets": {},
     "nuid": "173eb718-6fb3-4289-baaa-3737b5adbc3c",
     "showTitle": false,
     "title": ""
    }
   },
   "outputs": [],
   "source": [
    "pre.test.score = 10"
   ]
  },
  {
   "cell_type": "code",
   "execution_count": 0,
   "metadata": {
    "application/vnd.databricks.v1+cell": {
     "cellMetadata": {},
     "inputWidgets": {},
     "nuid": "7673b77d-6a7a-4e24-bda0-fa7d9d7c0a73",
     "showTitle": false,
     "title": ""
    }
   },
   "outputs": [],
   "source": [
    "# Challenge: Rewrite this code in a single line\n",
    "a = 4*20\n",
    "b = 7\n",
    "a+b"
   ]
  },
  {
   "cell_type": "markdown",
   "metadata": {
    "application/vnd.databricks.v1+cell": {
     "cellMetadata": {},
     "inputWidgets": {},
     "nuid": "ff9e2e96-82ef-4b00-b48e-5c9de3390f7e",
     "showTitle": false,
     "title": ""
    }
   },
   "source": [
    "**Challenge: Rewrite this code in several lines**\n",
    "`2*2+2*2+2*2`"
   ]
  },
  {
   "cell_type": "code",
   "execution_count": 0,
   "metadata": {
    "application/vnd.databricks.v1+cell": {
     "cellMetadata": {},
     "inputWidgets": {},
     "nuid": "71df6949-47de-4955-be9d-566d50bb8c6c",
     "showTitle": false,
     "title": ""
    }
   },
   "outputs": [],
   "source": []
  },
  {
   "cell_type": "markdown",
   "metadata": {
    "application/vnd.databricks.v1+cell": {
     "cellMetadata": {},
     "inputWidgets": {},
     "nuid": "529fc6f2-5694-4663-baff-13cdde7fbdf8",
     "showTitle": false,
     "title": ""
    }
   },
   "source": [
    "## 6. Commenting your code! <a class=\"anchor\" id=\"bullet6\"></a>"
   ]
  },
  {
   "cell_type": "markdown",
   "metadata": {
    "application/vnd.databricks.v1+cell": {
     "cellMetadata": {},
     "inputWidgets": {},
     "nuid": "01446c24-c90c-4df5-827b-48874ab896cd",
     "showTitle": false,
     "title": ""
    }
   },
   "source": [
    "the `#` symbol is used to add comments, which will ignore all code on a line following the `#`"
   ]
  },
  {
   "cell_type": "code",
   "execution_count": 0,
   "metadata": {
    "application/vnd.databricks.v1+cell": {
     "cellMetadata": {},
     "inputWidgets": {},
     "nuid": "383e25fe-16a4-4cd4-8e1a-5819c3b3a1c5",
     "showTitle": false,
     "title": ""
    }
   },
   "outputs": [],
   "source": [
    "## This code computes updates the area\n",
    "area = width * width  # Comments can also be added in-line following code"
   ]
  },
  {
   "cell_type": "markdown",
   "metadata": {
    "application/vnd.databricks.v1+cell": {
     "cellMetadata": {},
     "inputWidgets": {},
     "nuid": "fee2e040-6547-4104-b8ca-6428d64ef338",
     "showTitle": false,
     "title": ""
    },
    "tags": []
   },
   "source": [
    "You can also use triple single or double quotes to add comments"
   ]
  },
  {
   "cell_type": "code",
   "execution_count": 0,
   "metadata": {
    "application/vnd.databricks.v1+cell": {
     "cellMetadata": {},
     "inputWidgets": {},
     "nuid": "4e6de4c4-dafe-4096-a4bc-da7fa21a884c",
     "showTitle": false,
     "title": ""
    }
   },
   "outputs": [],
   "source": [
    "\"\"\" This will be ignored  \"\"\" \n",
    "''' So will this '''\n",
    "5 + 6"
   ]
  },
  {
   "cell_type": "markdown",
   "metadata": {
    "application/vnd.databricks.v1+cell": {
     "cellMetadata": {},
     "inputWidgets": {},
     "nuid": "14990557-f6e3-4af2-8190-e2d37dc79a25",
     "showTitle": false,
     "title": ""
    }
   },
   "source": [
    "#### Tip: When applying to jobs, you should clearly comment your code and describe what you are doing! This makes it easier for those who are \"grading\" your work, and saves them time, which increases your chances of \"passing\""
   ]
  },
  {
   "cell_type": "markdown",
   "metadata": {
    "application/vnd.databricks.v1+cell": {
     "cellMetadata": {},
     "inputWidgets": {},
     "nuid": "7bafe8ed-eccb-4395-8278-cf0c1c0da92e",
     "showTitle": false,
     "title": ""
    }
   },
   "source": [
    "## 7. List objects <a class=\"anchor\" id=\"bullet7\"></a>"
   ]
  },
  {
   "cell_type": "markdown",
   "metadata": {
    "application/vnd.databricks.v1+cell": {
     "cellMetadata": {},
     "inputWidgets": {},
     "nuid": "7854a5ac-8fe0-4212-b716-293aaa9e3d66",
     "showTitle": false,
     "title": ""
    }
   },
   "source": [
    "* list are a special data type in python which can hold multiple \"elements\", similar to vectors in R\n",
    "* Unlike the vector from R, list elements can be of different data types themsevles - they can even be another list\n",
    "* Indexing, or slicing, a list refers to extracting a particular set of its elements"
   ]
  },
  {
   "cell_type": "code",
   "execution_count": 0,
   "metadata": {
    "application/vnd.databricks.v1+cell": {
     "cellMetadata": {},
     "inputWidgets": {},
     "nuid": "351c9db9-6583-4345-b0b9-76c8010d863c",
     "showTitle": false,
     "title": ""
    }
   },
   "outputs": [],
   "source": [
    "# intialize an empty list\n",
    "lst = []\n",
    "lst"
   ]
  },
  {
   "cell_type": "code",
   "execution_count": 0,
   "metadata": {
    "application/vnd.databricks.v1+cell": {
     "cellMetadata": {},
     "inputWidgets": {},
     "nuid": "f0cb933e-7eb7-482e-b1b4-b5e49621056e",
     "showTitle": false,
     "title": ""
    }
   },
   "outputs": [],
   "source": [
    "# intialize an unempty list\n",
    "lst = [2, 4, 6, 8, 10]\n",
    "lst"
   ]
  },
  {
   "cell_type": "code",
   "execution_count": 0,
   "metadata": {
    "application/vnd.databricks.v1+cell": {
     "cellMetadata": {},
     "inputWidgets": {},
     "nuid": "f9ac3513-d3c7-4e47-839b-6aaa08e0683a",
     "showTitle": false,
     "title": ""
    }
   },
   "outputs": [],
   "source": [
    "# delete operator to remove the item in position 3 (which is 8 here)\n",
    "del lst[3]\n",
    "lst"
   ]
  },
  {
   "cell_type": "code",
   "execution_count": 0,
   "metadata": {
    "application/vnd.databricks.v1+cell": {
     "cellMetadata": {},
     "inputWidgets": {},
     "nuid": "2c30471b-59b4-441b-98dd-686abc71a571",
     "showTitle": false,
     "title": ""
    }
   },
   "outputs": [],
   "source": [
    "# We can also use the remove method\n",
    "lst.remove(6) # Remove the first occurence of the int 6 value\n",
    "lst"
   ]
  },
  {
   "cell_type": "code",
   "execution_count": 0,
   "metadata": {
    "application/vnd.databricks.v1+cell": {
     "cellMetadata": {},
     "inputWidgets": {},
     "nuid": "ff13c1c8-6d6e-4260-8e0d-8e53eaad5ffe",
     "showTitle": false,
     "title": ""
    }
   },
   "outputs": [],
   "source": [
    "# Re-intialize an unempty list\n",
    "lst = [2, 4, 6, 8, 10]"
   ]
  },
  {
   "cell_type": "code",
   "execution_count": 0,
   "metadata": {
    "application/vnd.databricks.v1+cell": {
     "cellMetadata": {},
     "inputWidgets": {},
     "nuid": "549230e1-7ed8-4cbc-b8a6-3d53fc57d306",
     "showTitle": false,
     "title": ""
    }
   },
   "outputs": [],
   "source": [
    "type(lst)"
   ]
  },
  {
   "cell_type": "code",
   "execution_count": 0,
   "metadata": {
    "application/vnd.databricks.v1+cell": {
     "cellMetadata": {},
     "inputWidgets": {},
     "nuid": "85993254-f6b1-4a53-8943-d2a4843445fb",
     "showTitle": false,
     "title": ""
    }
   },
   "outputs": [],
   "source": [
    "# length of list\n",
    "len(lst)"
   ]
  },
  {
   "cell_type": "markdown",
   "metadata": {
    "application/vnd.databricks.v1+cell": {
     "cellMetadata": {},
     "inputWidgets": {},
     "nuid": "75d70a1a-b5cd-4347-998d-5f7f9533dc44",
     "showTitle": false,
     "title": ""
    }
   },
   "source": [
    "The list object `lst` has five **elements**. An element is defined as one"
   ]
  },
  {
   "cell_type": "code",
   "execution_count": 0,
   "metadata": {
    "application/vnd.databricks.v1+cell": {
     "cellMetadata": {},
     "inputWidgets": {},
     "nuid": "9a2ab709-fa39-4650-90df-b2b9ea762a83",
     "showTitle": false,
     "title": ""
    }
   },
   "outputs": [],
   "source": [
    "# index function (or method)\n",
    "lst1 = [1,2,3,3,3,4,5,6]\n",
    "lst1.index(3) # returns the index or position of the first occurence for the int 3"
   ]
  },
  {
   "cell_type": "code",
   "execution_count": 0,
   "metadata": {
    "application/vnd.databricks.v1+cell": {
     "cellMetadata": {},
     "inputWidgets": {},
     "nuid": "73986b03-1b78-465e-a699-3c0b3cc484fb",
     "showTitle": false,
     "title": ""
    }
   },
   "outputs": [],
   "source": [
    "# arithmetic \n",
    "[i+1 for i in lst] # This syntax is called a \"list comprehension\", which we will learn about later in the course"
   ]
  },
  {
   "cell_type": "code",
   "execution_count": 0,
   "metadata": {
    "application/vnd.databricks.v1+cell": {
     "cellMetadata": {},
     "inputWidgets": {},
     "nuid": "6d536eef-24c8-4665-a487-ebefe3da1243",
     "showTitle": false,
     "title": ""
    }
   },
   "outputs": [],
   "source": [
    "[i+i for i in lst]"
   ]
  },
  {
   "cell_type": "code",
   "execution_count": 0,
   "metadata": {
    "application/vnd.databricks.v1+cell": {
     "cellMetadata": {},
     "inputWidgets": {},
     "nuid": "b9a80f76-500b-4603-8483-aab6163737b3",
     "showTitle": false,
     "title": ""
    }
   },
   "outputs": [],
   "source": [
    "# Add the interger 60 to the list\n",
    "lst + [60] "
   ]
  },
  {
   "cell_type": "code",
   "execution_count": 0,
   "metadata": {
    "application/vnd.databricks.v1+cell": {
     "cellMetadata": {},
     "inputWidgets": {},
     "nuid": "8a6afaf1-6022-4e3f-b6b8-1638a05dff91",
     "showTitle": false,
     "title": ""
    }
   },
   "outputs": [],
   "source": [
    "# Challenge: What do you think this will do?\n",
    "lst + lst "
   ]
  },
  {
   "cell_type": "code",
   "execution_count": 0,
   "metadata": {
    "application/vnd.databricks.v1+cell": {
     "cellMetadata": {},
     "inputWidgets": {},
     "nuid": "6dad6521-6862-41ec-95df-c0871034c7bf",
     "showTitle": false,
     "title": ""
    }
   },
   "outputs": [],
   "source": [
    "# This returns an error, because when Python sees the \"+\" following a list object, \n",
    "# it is looking to concatanate or add another list data type\n",
    "lst + 1 "
   ]
  },
  {
   "cell_type": "code",
   "execution_count": 0,
   "metadata": {
    "application/vnd.databricks.v1+cell": {
     "cellMetadata": {},
     "inputWidgets": {},
     "nuid": "b66da1c4-f4d9-400f-b737-920170703988",
     "showTitle": false,
     "title": ""
    }
   },
   "outputs": [],
   "source": [
    "lst.append(60) # another valid way to add an element using a 'method', which we will learn about later\n",
    "lst"
   ]
  },
  {
   "cell_type": "code",
   "execution_count": 0,
   "metadata": {
    "application/vnd.databricks.v1+cell": {
     "cellMetadata": {},
     "inputWidgets": {},
     "nuid": "ac898edf-5029-4f44-ab2f-7c48d667b232",
     "showTitle": false,
     "title": ""
    }
   },
   "outputs": [],
   "source": [
    "lst = ['hello', 'world'] # list of strings\n",
    "lst"
   ]
  },
  {
   "cell_type": "code",
   "execution_count": 0,
   "metadata": {
    "application/vnd.databricks.v1+cell": {
     "cellMetadata": {},
     "inputWidgets": {},
     "nuid": "36d59568-c186-474a-b926-d0a817d3e389",
     "showTitle": false,
     "title": ""
    }
   },
   "outputs": [],
   "source": [
    "lst = [True, False] # boolean list\n",
    "lst"
   ]
  },
  {
   "cell_type": "code",
   "execution_count": 0,
   "metadata": {
    "application/vnd.databricks.v1+cell": {
     "cellMetadata": {},
     "inputWidgets": {},
     "nuid": "38559832-81bb-47d3-9f33-c04a20e2ec93",
     "showTitle": false,
     "title": ""
    }
   },
   "outputs": [],
   "source": [
    "# Mixing types: lists can also store multiple data types - but be careful when doing this! \n",
    "lst = [2, 54, 5, \"hello\", \"world\", True, False, 23]\n",
    "print(lst)"
   ]
  },
  {
   "cell_type": "code",
   "execution_count": 0,
   "metadata": {
    "application/vnd.databricks.v1+cell": {
     "cellMetadata": {},
     "inputWidgets": {},
     "nuid": "666589fa-26dd-4aeb-a67b-3eabda267f2b",
     "showTitle": false,
     "title": ""
    }
   },
   "outputs": [],
   "source": [
    "# indexing or slicing a list. Python starts indexing at 0, not 1! This is different from R\n",
    "lst = [2, 4, 6, 8, 10]\n",
    "lst[0] # To slice the first element, use an index value of 0"
   ]
  },
  {
   "cell_type": "code",
   "execution_count": 0,
   "metadata": {
    "application/vnd.databricks.v1+cell": {
     "cellMetadata": {},
     "inputWidgets": {},
     "nuid": "3d4214cc-e20b-46a4-93e6-70ddc1ba866b",
     "showTitle": false,
     "title": ""
    }
   },
   "outputs": [],
   "source": [
    "lst[3] # this slices the fourth element in the list object"
   ]
  },
  {
   "cell_type": "code",
   "execution_count": 0,
   "metadata": {
    "application/vnd.databricks.v1+cell": {
     "cellMetadata": {},
     "inputWidgets": {},
     "nuid": "ca29429e-7bc2-4aad-ae47-2ffdb4866104",
     "showTitle": false,
     "title": ""
    }
   },
   "outputs": [],
   "source": [
    "# Slice multiple values using \":\". Note: In the code below, we will extract elements 1, 2 and 3. Not element 4!\n",
    "# While we start with the first element 0, the element in final position is not included in the slice\n",
    "lst[0:3]"
   ]
  },
  {
   "cell_type": "code",
   "execution_count": 0,
   "metadata": {
    "application/vnd.databricks.v1+cell": {
     "cellMetadata": {},
     "inputWidgets": {},
     "nuid": "1f168c1f-66f6-446e-881a-52458a5faa50",
     "showTitle": false,
     "title": ""
    }
   },
   "outputs": [],
   "source": [
    "# We can update values by assigning new values to a particular set of elements\n",
    "lst[2] = 5  # update the third element to be a 5\n",
    "lst"
   ]
  },
  {
   "cell_type": "code",
   "execution_count": 0,
   "metadata": {
    "application/vnd.databricks.v1+cell": {
     "cellMetadata": {},
     "inputWidgets": {},
     "nuid": "bf3637ef-4ff8-475e-86bf-f62e67c42fee",
     "showTitle": false,
     "title": ""
    }
   },
   "outputs": [],
   "source": [
    "# We can also use indexing with a \"-\" sign, which starts from the end rather than the beginning of the list\n",
    "lst[-1]  # note that -1 is the first element when using this reverse indexing method. "
   ]
  },
  {
   "cell_type": "code",
   "execution_count": 0,
   "metadata": {
    "application/vnd.databricks.v1+cell": {
     "cellMetadata": {},
     "inputWidgets": {},
     "nuid": "3eb413f8-e8c0-45ed-aa62-7dad5e5af46c",
     "showTitle": false,
     "title": ""
    }
   },
   "outputs": [],
   "source": [
    "lst[-0] # \"-0\" defaults to the first element that starts a list"
   ]
  },
  {
   "cell_type": "code",
   "execution_count": 0,
   "metadata": {
    "application/vnd.databricks.v1+cell": {
     "cellMetadata": {},
     "inputWidgets": {},
     "nuid": "3ae5af6d-6907-4630-a764-65c48f4b671c",
     "showTitle": false,
     "title": ""
    }
   },
   "outputs": [],
   "source": [
    "# We can assign multiple values at once\n",
    "lst[1:4] = [2, 3, 4]\n",
    "lst"
   ]
  },
  {
   "cell_type": "code",
   "execution_count": 0,
   "metadata": {
    "application/vnd.databricks.v1+cell": {
     "cellMetadata": {},
     "inputWidgets": {},
     "nuid": "7d14dedc-ccdb-402a-8656-d92da3d205fe",
     "showTitle": false,
     "title": ""
    }
   },
   "outputs": [],
   "source": [
    "# Below, we use a method called \".insert\" to insert the element 60 at the 0 index position\n",
    "lst = [2, 4, 6, 8, 10]\n",
    "lst.insert(0, 60)\n",
    "lst"
   ]
  },
  {
   "cell_type": "code",
   "execution_count": 0,
   "metadata": {
    "application/vnd.databricks.v1+cell": {
     "cellMetadata": {},
     "inputWidgets": {},
     "nuid": "f2cd1343-bb5e-4738-8f51-7bd98da2dcc2",
     "showTitle": false,
     "title": ""
    }
   },
   "outputs": [],
   "source": [
    "# Experimenting with the \":\" while sliceing\n",
    "lst[:3]  # Grab everything from 0 until index spot 2"
   ]
  },
  {
   "cell_type": "code",
   "execution_count": 0,
   "metadata": {
    "application/vnd.databricks.v1+cell": {
     "cellMetadata": {},
     "inputWidgets": {},
     "nuid": "73fc81cf-1fa6-47b2-aefe-96fa168020bf",
     "showTitle": false,
     "title": ""
    }
   },
   "outputs": [],
   "source": [
    "lst[:5]"
   ]
  },
  {
   "cell_type": "code",
   "execution_count": 0,
   "metadata": {
    "application/vnd.databricks.v1+cell": {
     "cellMetadata": {},
     "inputWidgets": {},
     "nuid": "fed152c9-09d3-4cab-90cf-a2adac31d3c0",
     "showTitle": false,
     "title": ""
    }
   },
   "outputs": [],
   "source": [
    "lst[:] # Grab entire list"
   ]
  },
  {
   "cell_type": "code",
   "execution_count": 0,
   "metadata": {
    "application/vnd.databricks.v1+cell": {
     "cellMetadata": {},
     "inputWidgets": {},
     "nuid": "a0999554-a696-4480-a505-b0650b63b6b7",
     "showTitle": false,
     "title": ""
    }
   },
   "outputs": [],
   "source": [
    "lst[2:] # go to element at index 2, and grab everything until to the end of the list"
   ]
  },
  {
   "cell_type": "code",
   "execution_count": 0,
   "metadata": {
    "application/vnd.databricks.v1+cell": {
     "cellMetadata": {},
     "inputWidgets": {},
     "nuid": "4b603cf8-3f33-42bf-9a8e-963eb2c6550f",
     "showTitle": false,
     "title": ""
    }
   },
   "outputs": [],
   "source": [
    "lst[:3] # Slice everything up to, but not including, element 3"
   ]
  },
  {
   "cell_type": "code",
   "execution_count": 0,
   "metadata": {
    "application/vnd.databricks.v1+cell": {
     "cellMetadata": {},
     "inputWidgets": {},
     "nuid": "daef18dc-0a18-4d64-a055-1adec7736629",
     "showTitle": false,
     "title": ""
    }
   },
   "outputs": [],
   "source": [
    "lst[-3:-1] # use negative indeces to slice from the end of the list"
   ]
  },
  {
   "cell_type": "code",
   "execution_count": 0,
   "metadata": {
    "application/vnd.databricks.v1+cell": {
     "cellMetadata": {},
     "inputWidgets": {},
     "nuid": "9c73cdb9-efb0-416e-af30-01a226df1914",
     "showTitle": false,
     "title": ""
    }
   },
   "outputs": [],
   "source": [
    "# A step can also be used after a second colon to, say, take every other element:\n",
    "lst[::2] # Starting from the first element, take every other element - takes evens"
   ]
  },
  {
   "cell_type": "code",
   "execution_count": 0,
   "metadata": {
    "application/vnd.databricks.v1+cell": {
     "cellMetadata": {},
     "inputWidgets": {},
     "nuid": "749e9446-c3b9-4378-9aa3-e3d0d4c08857",
     "showTitle": false,
     "title": ""
    }
   },
   "outputs": [],
   "source": [
    "lst[1::2] # Starting from the second element, take every other element - takes odds"
   ]
  },
  {
   "cell_type": "code",
   "execution_count": 0,
   "metadata": {
    "application/vnd.databricks.v1+cell": {
     "cellMetadata": {},
     "inputWidgets": {},
     "nuid": "6bbb0b73-f920-4e00-b0b2-473b405b28e6",
     "showTitle": false,
     "title": ""
    }
   },
   "outputs": [],
   "source": [
    "# You can also create sequences with the range function\n",
    "lst99 = range(0,10)  # This is called a \"generator expression\", also called \"lazy evaluation\"\n",
    "lst99"
   ]
  },
  {
   "cell_type": "markdown",
   "metadata": {
    "application/vnd.databricks.v1+cell": {
     "cellMetadata": {},
     "inputWidgets": {},
     "nuid": "f992846a-639e-40af-b900-7091ab31323b",
     "showTitle": false,
     "title": ""
    }
   },
   "source": [
    "A **generator expression** is a special kind of function that returns a \"lazy iterator\". Certain python objects will be able to loop through such expressions (i.e., a *for* loop which we will study later), however the generator expression is not executed and committed to your PC's memory. It's basically a programing hack to save computer resources. \n",
    "\n",
    "In the example above, we can make make a list object by wrapping the generator expression in the `list()` function, which is alternative syntax for creating a list object."
   ]
  },
  {
   "cell_type": "code",
   "execution_count": 0,
   "metadata": {
    "application/vnd.databricks.v1+cell": {
     "cellMetadata": {},
     "inputWidgets": {},
     "nuid": "38b2a9e5-f6bf-4ba1-98e3-e1b7277d02fe",
     "showTitle": false,
     "title": ""
    }
   },
   "outputs": [],
   "source": [
    "# For example:\n",
    "lst99 = list( range(0,10) )\n",
    "lst99"
   ]
  },
  {
   "cell_type": "code",
   "execution_count": 0,
   "metadata": {
    "application/vnd.databricks.v1+cell": {
     "cellMetadata": {},
     "inputWidgets": {},
     "nuid": "1c06ba28-3919-4eab-ad86-78bfa8942d2c",
     "showTitle": false,
     "title": ""
    }
   },
   "outputs": [],
   "source": [
    "# a nested list\n",
    "lst3 = [[\"John\", 23],\n",
    "        [\"Sally\", 19],\n",
    "        [\"Sarah\", 43]]\n",
    "lst3"
   ]
  },
  {
   "cell_type": "code",
   "execution_count": 0,
   "metadata": {
    "application/vnd.databricks.v1+cell": {
     "cellMetadata": {},
     "inputWidgets": {},
     "nuid": "feef83c5-856d-41a8-93a7-5780a4a1cf4f",
     "showTitle": false,
     "title": ""
    }
   },
   "outputs": [],
   "source": [
    "# The above is a multi-dimensional list object, so you have to use multi-dimensional slicing to index it\n",
    "lst3[0] # the first element (index 0) is actually another list!"
   ]
  },
  {
   "cell_type": "code",
   "execution_count": 0,
   "metadata": {
    "application/vnd.databricks.v1+cell": {
     "cellMetadata": {},
     "inputWidgets": {},
     "nuid": "5a6b46a5-cab2-412d-87c2-e01115f323ab",
     "showTitle": false,
     "title": ""
    }
   },
   "outputs": [],
   "source": [
    "lst3[0:2]"
   ]
  },
  {
   "cell_type": "code",
   "execution_count": 0,
   "metadata": {
    "application/vnd.databricks.v1+cell": {
     "cellMetadata": {},
     "inputWidgets": {},
     "nuid": "0233d97a-5f00-47a9-9e4e-404ee6a3440f",
     "showTitle": false,
     "title": ""
    }
   },
   "outputs": [],
   "source": [
    "lst3[0][1] # We can keep adding slices to keep slicing further"
   ]
  },
  {
   "cell_type": "code",
   "execution_count": 0,
   "metadata": {
    "application/vnd.databricks.v1+cell": {
     "cellMetadata": {},
     "inputWidgets": {},
     "nuid": "4f34a890-7076-44f9-ae3d-a3d78a3d7d00",
     "showTitle": false,
     "title": ""
    }
   },
   "outputs": [],
   "source": [
    "lst3[0:2]"
   ]
  },
  {
   "cell_type": "code",
   "execution_count": 0,
   "metadata": {
    "application/vnd.databricks.v1+cell": {
     "cellMetadata": {},
     "inputWidgets": {},
     "nuid": "34345c3e-f9e5-49ed-80b4-e30b7e197ed6",
     "showTitle": false,
     "title": ""
    }
   },
   "outputs": [],
   "source": [
    "A = [[1, 2, 3], [4, 5, 6], [7, 8, 9]]\n",
    "A"
   ]
  },
  {
   "cell_type": "code",
   "execution_count": 0,
   "metadata": {
    "application/vnd.databricks.v1+cell": {
     "cellMetadata": {},
     "inputWidgets": {},
     "nuid": "a94bb621-8c85-48f5-92a9-8d8b3c2f9eff",
     "showTitle": false,
     "title": ""
    }
   },
   "outputs": [],
   "source": [
    "i, j = 1, 2\n",
    "print(i)\n",
    "print(j)\n",
    "A[i][j]"
   ]
  },
  {
   "cell_type": "markdown",
   "metadata": {
    "application/vnd.databricks.v1+cell": {
     "cellMetadata": {},
     "inputWidgets": {},
     "nuid": "6c19983b-b43f-42ca-a434-914ee8d998e9",
     "showTitle": false,
     "title": ""
    }
   },
   "source": [
    "### Challenge: Use the following list to answer the following questions"
   ]
  },
  {
   "cell_type": "code",
   "execution_count": 0,
   "metadata": {
    "application/vnd.databricks.v1+cell": {
     "cellMetadata": {},
     "inputWidgets": {},
     "nuid": "ea37d864-e3c1-4de0-975d-9e3068512689",
     "showTitle": false,
     "title": ""
    }
   },
   "outputs": [],
   "source": [
    "items = [\"spam\", \"eggs\", \"beans\", \"bacon\", \"sausage\"]"
   ]
  },
  {
   "cell_type": "markdown",
   "metadata": {
    "application/vnd.databricks.v1+cell": {
     "cellMetadata": {},
     "inputWidgets": {},
     "nuid": "57b9f7ba-d23f-46d3-9be4-7c40c8beb07b",
     "showTitle": false,
     "title": ""
    }
   },
   "source": [
    "##### Challenge: What does items[::-1] produce? Based on what you find, use indexing to create a version of items without \"spam\""
   ]
  },
  {
   "cell_type": "code",
   "execution_count": 0,
   "metadata": {
    "application/vnd.databricks.v1+cell": {
     "cellMetadata": {},
     "inputWidgets": {},
     "nuid": "71207f6c-68ff-4488-a1d2-1af5e457e988",
     "showTitle": false,
     "title": ""
    }
   },
   "outputs": [],
   "source": []
  },
  {
   "cell_type": "markdown",
   "metadata": {
    "application/vnd.databricks.v1+cell": {
     "cellMetadata": {},
     "inputWidgets": {},
     "nuid": "950e818d-30b1-45e3-aa47-246be4a067b8",
     "showTitle": false,
     "title": ""
    }
   },
   "source": [
    "##### Challenge: Use indexing and concatenation to create a list containing spam, eggs, sausage, spam, and spam"
   ]
  },
  {
   "cell_type": "code",
   "execution_count": 0,
   "metadata": {
    "application/vnd.databricks.v1+cell": {
     "cellMetadata": {},
     "inputWidgets": {},
     "nuid": "e8a754ab-ff7b-4699-8614-e5204ca0d013",
     "showTitle": false,
     "title": ""
    }
   },
   "outputs": [],
   "source": []
  },
  {
   "cell_type": "markdown",
   "metadata": {
    "application/vnd.databricks.v1+cell": {
     "cellMetadata": {},
     "inputWidgets": {},
     "nuid": "794d5c33-f48a-4a24-9683-e2ce35f96146",
     "showTitle": false,
     "title": ""
    }
   },
   "source": [
    "##### Challenge: Add a new item, “lobster”, to items"
   ]
  },
  {
   "cell_type": "code",
   "execution_count": 0,
   "metadata": {
    "application/vnd.databricks.v1+cell": {
     "cellMetadata": {},
     "inputWidgets": {},
     "nuid": "8e447f03-27c0-4056-914a-468d40272d78",
     "showTitle": false,
     "title": ""
    }
   },
   "outputs": [],
   "source": []
  },
  {
   "cell_type": "markdown",
   "metadata": {
    "application/vnd.databricks.v1+cell": {
     "cellMetadata": {},
     "inputWidgets": {},
     "nuid": "b1b8be37-8bc3-465c-a555-f131c847ac86",
     "showTitle": false,
     "title": ""
    }
   },
   "source": [
    "## 8. Tuple objects <a class=\"anchor\" id=\"bullet8\"></a>"
   ]
  },
  {
   "cell_type": "markdown",
   "metadata": {
    "application/vnd.databricks.v1+cell": {
     "cellMetadata": {},
     "inputWidgets": {},
     "nuid": "6bac7edf-ccd1-45b2-a075-f7cfcc35127e",
     "showTitle": false,
     "title": ""
    }
   },
   "source": [
    "Tuples are used to store multiple items in a single variable. **A tuple is one of 4 built-in data types in Python used to store collections of data, the other 3 are List, Set, and Dictionary**, all with different qualities and usage.\n",
    "\n",
    "A tuple is a collection which is ordered and unchangeable. Tuples are written with round brackets."
   ]
  },
  {
   "cell_type": "code",
   "execution_count": 0,
   "metadata": {
    "application/vnd.databricks.v1+cell": {
     "cellMetadata": {},
     "inputWidgets": {},
     "nuid": "2560f4b9-f199-4560-8994-ab9b5ee55cfd",
     "showTitle": false,
     "title": ""
    }
   },
   "outputs": [],
   "source": [
    "t1 = (\"Modern\", \"Data\", \"Structures\")\n",
    "t1"
   ]
  },
  {
   "cell_type": "code",
   "execution_count": 0,
   "metadata": {
    "application/vnd.databricks.v1+cell": {
     "cellMetadata": {},
     "inputWidgets": {},
     "nuid": "13db5e33-812c-4a31-b4f6-5f9444f5b660",
     "showTitle": false,
     "title": ""
    }
   },
   "outputs": [],
   "source": [
    "type(t1)"
   ]
  },
  {
   "cell_type": "code",
   "execution_count": 0,
   "metadata": {
    "application/vnd.databricks.v1+cell": {
     "cellMetadata": {},
     "inputWidgets": {},
     "nuid": "f7cf2e9e-a15b-46c4-a94f-994fbf27384f",
     "showTitle": false,
     "title": ""
    }
   },
   "outputs": [],
   "source": [
    "# index the same way as lists\n",
    "t1[1]"
   ]
  },
  {
   "cell_type": "code",
   "execution_count": 0,
   "metadata": {
    "application/vnd.databricks.v1+cell": {
     "cellMetadata": {},
     "inputWidgets": {},
     "nuid": "afca5721-10c8-4a97-9d53-dffaf890eb00",
     "showTitle": false,
     "title": ""
    }
   },
   "outputs": [],
   "source": [
    "t2 = (1, 2, 3, 4, 5, 6, 7)"
   ]
  },
  {
   "cell_type": "code",
   "execution_count": 0,
   "metadata": {
    "application/vnd.databricks.v1+cell": {
     "cellMetadata": {},
     "inputWidgets": {},
     "nuid": "e8fc06db-d0a9-482b-8975-015e72c746b1",
     "showTitle": false,
     "title": ""
    }
   },
   "outputs": [],
   "source": [
    "# add 2 tuples of different types, showing that tuples can hold different types\n",
    "t1 + t2"
   ]
  },
  {
   "cell_type": "code",
   "execution_count": 0,
   "metadata": {
    "application/vnd.databricks.v1+cell": {
     "cellMetadata": {},
     "inputWidgets": {},
     "nuid": "4aa3aa2c-debd-43d2-ab0b-e948088ebdc2",
     "showTitle": false,
     "title": ""
    }
   },
   "outputs": [],
   "source": [
    "# What does the code below do ? \n",
    "t2 * 3 # Note this will work for list objects as well!"
   ]
  },
  {
   "cell_type": "code",
   "execution_count": 0,
   "metadata": {
    "application/vnd.databricks.v1+cell": {
     "cellMetadata": {},
     "inputWidgets": {},
     "nuid": "129eed47-a876-4d74-b07b-9537fbfeddc8",
     "showTitle": false,
     "title": ""
    }
   },
   "outputs": [],
   "source": [
    "# Since tuples are indexed, they can have items with the same value\n",
    "thistuple = (\"apple\", \"banana\", \"cherry\", \"apple\", \"cherry\")\n",
    "print(thistuple)"
   ]
  },
  {
   "cell_type": "code",
   "execution_count": 0,
   "metadata": {
    "application/vnd.databricks.v1+cell": {
     "cellMetadata": {},
     "inputWidgets": {},
     "nuid": "f5f36b28-20a0-40d5-b9e1-b580248b2546",
     "showTitle": false,
     "title": ""
    }
   },
   "outputs": [],
   "source": [
    "# Most of the functions which work for list objects will also work for tuple objects\n",
    "print(len(thistuple)) # Count the number of elements in a tuple object"
   ]
  },
  {
   "cell_type": "markdown",
   "metadata": {
    "application/vnd.databricks.v1+cell": {
     "cellMetadata": {},
     "inputWidgets": {},
     "nuid": "1d2c7811-7d27-41ff-9086-b3274652dd53",
     "showTitle": false,
     "title": ""
    }
   },
   "source": [
    "Tuples are **immutable**, unlike lists. This means their values can never be modified!"
   ]
  },
  {
   "cell_type": "code",
   "execution_count": 0,
   "metadata": {
    "application/vnd.databricks.v1+cell": {
     "cellMetadata": {},
     "inputWidgets": {},
     "nuid": "7cbfae66-7e6c-4c3a-923c-43b0f4f3ec30",
     "showTitle": false,
     "title": ""
    }
   },
   "outputs": [],
   "source": [
    "t2[0] = 0 # Note this throws a \"TypeError\". We will learn more about errors and debugging code later this semester"
   ]
  },
  {
   "cell_type": "code",
   "execution_count": 0,
   "metadata": {
    "application/vnd.databricks.v1+cell": {
     "cellMetadata": {},
     "inputWidgets": {},
     "nuid": "f635bba0-7b8d-4a98-94e3-868ba67373a9",
     "showTitle": false,
     "title": ""
    }
   },
   "outputs": [],
   "source": [
    "# String, int and boolean data types:\n",
    "tuple1 = (\"apple\", \"banana\", \"cherry\")\n",
    "tuple2 = (1, 5, 7, 9, 3)\n",
    "tuple3 = (True, False, False)"
   ]
  },
  {
   "cell_type": "markdown",
   "metadata": {
    "application/vnd.databricks.v1+cell": {
     "cellMetadata": {},
     "inputWidgets": {},
     "nuid": "fdced1e1-a340-4965-a151-e4a498267525",
     "showTitle": false,
     "title": ""
    }
   },
   "source": [
    "## 9. Dictionary and set objects <a class=\"anchor\" id=\"bullet9\"></a>"
   ]
  },
  {
   "cell_type": "markdown",
   "metadata": {
    "application/vnd.databricks.v1+cell": {
     "cellMetadata": {},
     "inputWidgets": {},
     "nuid": "bed5e5eb-0502-44dd-9086-9663013e27e1",
     "showTitle": false,
     "title": ""
    }
   },
   "source": [
    "A **dictionary** object is a collection which is ordered and changeable. No duplicate members. When we say that dictionaries are ordered, it means that the items have a defined order, and that order will not change."
   ]
  },
  {
   "cell_type": "code",
   "execution_count": 0,
   "metadata": {
    "application/vnd.databricks.v1+cell": {
     "cellMetadata": {},
     "inputWidgets": {},
     "nuid": "30544239-cfa3-4e6f-b192-09e1aa7ca804",
     "showTitle": false,
     "title": ""
    }
   },
   "outputs": [],
   "source": [
    "# key, value pairs\n",
    "dic = {\n",
    "    \"player\": \"Tom Brady\",  # \"player\" = key, \"Tom Brady\" = value\n",
    "    \"age\": 45,\n",
    "    \"position\": \"QB\"\n",
    "}\n",
    "print(dic)"
   ]
  },
  {
   "cell_type": "code",
   "execution_count": 0,
   "metadata": {
    "application/vnd.databricks.v1+cell": {
     "cellMetadata": {},
     "inputWidgets": {},
     "nuid": "46faccb8-ca48-43fe-a738-9ec596120292",
     "showTitle": false,
     "title": ""
    }
   },
   "outputs": [],
   "source": [
    "dic['player']"
   ]
  },
  {
   "cell_type": "code",
   "execution_count": 0,
   "metadata": {
    "application/vnd.databricks.v1+cell": {
     "cellMetadata": {},
     "inputWidgets": {},
     "nuid": "d606ecef-56cf-4195-a4aa-bbeca8b4f089",
     "showTitle": false,
     "title": ""
    }
   },
   "outputs": [],
   "source": [
    "# Dictionaries cannot have two items with the same key.\n",
    "thisdict = {\n",
    "  \"brand\": \"Ford\",\n",
    "  \"model\": \"Mustang\",\n",
    "  \"year\": 1964,\n",
    "  \"year\": 2020\n",
    "}\n",
    "print(thisdict)"
   ]
  },
  {
   "cell_type": "code",
   "execution_count": 0,
   "metadata": {
    "application/vnd.databricks.v1+cell": {
     "cellMetadata": {},
     "inputWidgets": {},
     "nuid": "57d6d116-937e-44e0-918d-3b6e47ea843a",
     "showTitle": false,
     "title": ""
    }
   },
   "outputs": [],
   "source": [
    "# String, int, boolean, and list data types:\n",
    "thisdict = {\n",
    "  \"brand\": \"Ford\",\n",
    "  \"electric\": False,\n",
    "  \"year\": 1964,\n",
    "  \"colors\": [\"red\", \"white\", \"blue\"]  # Notice how the \"value\" here is a list object with multiple elements\n",
    "}"
   ]
  },
  {
   "cell_type": "code",
   "execution_count": 0,
   "metadata": {
    "application/vnd.databricks.v1+cell": {
     "cellMetadata": {},
     "inputWidgets": {},
     "nuid": "6686aed7-5df6-4972-8010-d466923b7eb3",
     "showTitle": false,
     "title": ""
    }
   },
   "outputs": [],
   "source": [
    "# Using the dict() method to make a dictionary\n",
    "thisdict = dict(name = \"John\", age = 36, country = \"Norway\")\n",
    "print(thisdict)"
   ]
  },
  {
   "cell_type": "markdown",
   "metadata": {
    "application/vnd.databricks.v1+cell": {
     "cellMetadata": {},
     "inputWidgets": {},
     "nuid": "67109b11-442e-4793-9eb9-64bcad150d05",
     "showTitle": false,
     "title": ""
    }
   },
   "source": [
    "A **set** is a collection which is unordered, unchangeable, and unindexed. No duplicate members. Set **items** are unchangeable, but you can remove and/or add items whenever you like. Unordered means that the items does not have a defined order, you cannot refer to an item by using an index."
   ]
  },
  {
   "cell_type": "code",
   "execution_count": 0,
   "metadata": {
    "application/vnd.databricks.v1+cell": {
     "cellMetadata": {},
     "inputWidgets": {},
     "nuid": "a295c7b2-b75f-4135-b7cd-8c7ad8da01eb",
     "showTitle": false,
     "title": ""
    }
   },
   "outputs": [],
   "source": [
    "thisset = {\"apple\", \"banana\", \"cherry\"}\n",
    "print(thisset)"
   ]
  },
  {
   "cell_type": "code",
   "execution_count": 0,
   "metadata": {
    "application/vnd.databricks.v1+cell": {
     "cellMetadata": {},
     "inputWidgets": {},
     "nuid": "c9104bbd-4f4f-4e18-b499-3543a698fbf8",
     "showTitle": false,
     "title": ""
    }
   },
   "outputs": [],
   "source": [
    "# Sets cannot have two items with the same value. Duplicate values will be ignored:\n",
    "thisset = {\"apple\", \"banana\", \"cherry\", \"apple\"}\n",
    "print(thisset)"
   ]
  },
  {
   "cell_type": "code",
   "execution_count": 0,
   "metadata": {
    "application/vnd.databricks.v1+cell": {
     "cellMetadata": {},
     "inputWidgets": {},
     "nuid": "9c24efa3-6eb7-4781-b8ee-0bde36bfde55",
     "showTitle": false,
     "title": ""
    }
   },
   "outputs": [],
   "source": [
    "# True and 1 is considered the same value, while 0 and False are the same value.\n",
    "thisset = {\"apple\", \"banana\", \"cherry\", True, 1, 2, 0, False}\n",
    "print(thisset)"
   ]
  },
  {
   "cell_type": "code",
   "execution_count": 0,
   "metadata": {
    "application/vnd.databricks.v1+cell": {
     "cellMetadata": {},
     "inputWidgets": {},
     "nuid": "d51d1e67-f5d7-47d8-aae3-de07088dd8ab",
     "showTitle": false,
     "title": ""
    }
   },
   "outputs": [],
   "source": [
    "# Get the number of items in a set\n",
    "thisset = {\"apple\", \"banana\", \"cherry\"}\n",
    "print(len(thisset))"
   ]
  },
  {
   "cell_type": "code",
   "execution_count": 0,
   "metadata": {
    "application/vnd.databricks.v1+cell": {
     "cellMetadata": {},
     "inputWidgets": {},
     "nuid": "9d180a0d-289f-42e9-91fb-24e51cfe2101",
     "showTitle": false,
     "title": ""
    }
   },
   "outputs": [],
   "source": [
    "# String, int and boolean data types\n",
    "set1 = {\"apple\", \"banana\", \"cherry\"}\n",
    "set2 = {1, 5, 7, 9, 3}\n",
    "set3 = {True, False, False}"
   ]
  },
  {
   "cell_type": "code",
   "execution_count": 0,
   "metadata": {
    "application/vnd.databricks.v1+cell": {
     "cellMetadata": {},
     "inputWidgets": {},
     "nuid": "afe020bc-77c1-446d-9d9d-c6785a431a31",
     "showTitle": false,
     "title": ""
    }
   },
   "outputs": [],
   "source": [
    "# A set with strings, integers and boolean values\n",
    "set1 = {\"abc\", 34, True, 40, \"male\"}"
   ]
  },
  {
   "cell_type": "code",
   "execution_count": 0,
   "metadata": {
    "application/vnd.databricks.v1+cell": {
     "cellMetadata": {},
     "inputWidgets": {},
     "nuid": "ce16557f-1653-47e9-81fb-3d9e8e6d6d21",
     "showTitle": false,
     "title": ""
    }
   },
   "outputs": [],
   "source": [
    "# Using the set() constructor to make a set\n",
    "thisset = set((\"apple\", \"banana\", \"cherry\")) # note the double round-brackets\n",
    "print(thisset)"
   ]
  },
  {
   "cell_type": "markdown",
   "metadata": {
    "application/vnd.databricks.v1+cell": {
     "cellMetadata": {},
     "inputWidgets": {},
     "nuid": "63e1745d-da63-4123-8261-08451865f837",
     "showTitle": false,
     "title": ""
    }
   },
   "source": [
    "In summary, there are four *collection data types*, or **arrays**, in the Python programming language. Throughout the semester, we will use all four collection data types. \n",
    "* **List** is a collection which is ordered and changeable. Allows duplicate members.\n",
    "* **Tuple** is a collection which is ordered and unchangeable. Allows duplicate members.\n",
    "* **Set** is a collection which is unordered, unchangeable, and unindexed. No duplicate members.\n",
    "* **Dictionary** is a collection which is ordered and changeable. No duplicate members.\n",
    "\n",
    "Note the list and dictionary data types are the most important ones to get familiar with."
   ]
  },
  {
   "cell_type": "markdown",
   "metadata": {
    "application/vnd.databricks.v1+cell": {
     "cellMetadata": {},
     "inputWidgets": {},
     "nuid": "3c5af3a2-12b7-4576-944b-dd7d32537063",
     "showTitle": false,
     "title": ""
    }
   },
   "source": [
    "## 10. Built in Functions <a class=\"anchor\" id=\"bullet10\"></a>"
   ]
  },
  {
   "cell_type": "markdown",
   "metadata": {
    "application/vnd.databricks.v1+cell": {
     "cellMetadata": {},
     "inputWidgets": {},
     "nuid": "426f5469-659c-456a-b66d-754e2bada5a7",
     "showTitle": false,
     "title": ""
    }
   },
   "source": [
    "* **Functions** are the things that do all the work for us. They take a set of inputs, and produce a set of outputs.\n",
    "* They always follow the same rules / logic when executing them.\n",
    "* They save a lot of time, and you can use functions from base python, other libraries, or ones that you write.\n",
    "* Functions can be identified anytime you see `()` in python.\n",
    "* For example, `max()` is a function called max, which takes an input (called **arguments** or **parameters** of the function) placed inside the parentheses. This function will return the largest number."
   ]
  },
  {
   "cell_type": "code",
   "execution_count": 0,
   "metadata": {
    "application/vnd.databricks.v1+cell": {
     "cellMetadata": {},
     "inputWidgets": {},
     "nuid": "0b508301-0562-4679-ae03-1ea5041e00f9",
     "showTitle": false,
     "title": ""
    }
   },
   "outputs": [],
   "source": [
    "lst = [0, 10, 20, 30, 40, 50, 60, 70 ,80, 90, 100]"
   ]
  },
  {
   "cell_type": "code",
   "execution_count": 0,
   "metadata": {
    "application/vnd.databricks.v1+cell": {
     "cellMetadata": {},
     "inputWidgets": {},
     "nuid": "d3cbd829-d57c-461e-a3da-fcedf7742f59",
     "showTitle": false,
     "title": ""
    }
   },
   "outputs": [],
   "source": [
    "max(lst)"
   ]
  },
  {
   "cell_type": "code",
   "execution_count": 0,
   "metadata": {
    "application/vnd.databricks.v1+cell": {
     "cellMetadata": {},
     "inputWidgets": {},
     "nuid": "504da8ad-aa7d-4fcf-916a-164723c29b30",
     "showTitle": false,
     "title": ""
    }
   },
   "outputs": [],
   "source": [
    "min(lst)"
   ]
  },
  {
   "cell_type": "code",
   "execution_count": 0,
   "metadata": {
    "application/vnd.databricks.v1+cell": {
     "cellMetadata": {},
     "inputWidgets": {},
     "nuid": "2aefb1c6-5723-4b2a-b425-8448cb5a2d19",
     "showTitle": false,
     "title": ""
    }
   },
   "outputs": [],
   "source": [
    "sum(lst)"
   ]
  },
  {
   "cell_type": "code",
   "execution_count": 0,
   "metadata": {
    "application/vnd.databricks.v1+cell": {
     "cellMetadata": {},
     "inputWidgets": {},
     "nuid": "e11c228a-f9eb-46e1-9aea-fdca2e613062",
     "showTitle": false,
     "title": ""
    }
   },
   "outputs": [],
   "source": [
    "items"
   ]
  },
  {
   "cell_type": "code",
   "execution_count": 0,
   "metadata": {
    "application/vnd.databricks.v1+cell": {
     "cellMetadata": {},
     "inputWidgets": {},
     "nuid": "2f2967e5-e751-48ed-94b6-e8c07f4043da",
     "showTitle": false,
     "title": ""
    }
   },
   "outputs": [],
   "source": [
    "# function behavior depends on the data type! \n",
    "max(items) "
   ]
  },
  {
   "cell_type": "code",
   "execution_count": 0,
   "metadata": {
    "application/vnd.databricks.v1+cell": {
     "cellMetadata": {},
     "inputWidgets": {},
     "nuid": "6d3d3225-4ac5-4702-848f-c3cdf3d2a480",
     "showTitle": false,
     "title": ""
    }
   },
   "outputs": [],
   "source": [
    "min(items)"
   ]
  },
  {
   "cell_type": "code",
   "execution_count": 0,
   "metadata": {
    "application/vnd.databricks.v1+cell": {
     "cellMetadata": {},
     "inputWidgets": {},
     "nuid": "8b86f5f8-acea-49f5-a2e4-35a24016bde8",
     "showTitle": false,
     "title": ""
    }
   },
   "outputs": [],
   "source": [
    "mean(lst) # Where's the mean function ?"
   ]
  },
  {
   "cell_type": "code",
   "execution_count": 0,
   "metadata": {
    "application/vnd.databricks.v1+cell": {
     "cellMetadata": {},
     "inputWidgets": {},
     "nuid": "91371d6d-d140-468c-80bd-7d0d65eacd80",
     "showTitle": false,
     "title": ""
    }
   },
   "outputs": [],
   "source": [
    "# We can use functions written by other Pythonistas! We can import their functions using the from / import calls\n",
    "# Here, we import the mean function from the statistics module/library\n",
    "from statistics import mean\n",
    "mean(lst)"
   ]
  },
  {
   "cell_type": "code",
   "execution_count": 0,
   "metadata": {
    "application/vnd.databricks.v1+cell": {
     "cellMetadata": {},
     "inputWidgets": {},
     "nuid": "3f219424-b95b-4500-966e-b37bb5a77405",
     "showTitle": false,
     "title": ""
    }
   },
   "outputs": [],
   "source": [
    "# Sometimes, a function is not compatible with a certain datatype, which will result in a \"TypeError\"\n",
    "mean(\"test\")"
   ]
  },
  {
   "cell_type": "code",
   "execution_count": 0,
   "metadata": {
    "application/vnd.databricks.v1+cell": {
     "cellMetadata": {},
     "inputWidgets": {},
     "nuid": "e57e1f47-6d61-4f7e-9251-d6421208c72c",
     "showTitle": false,
     "title": ""
    }
   },
   "outputs": [],
   "source": [
    "round(51.63452)"
   ]
  },
  {
   "cell_type": "code",
   "execution_count": 0,
   "metadata": {
    "application/vnd.databricks.v1+cell": {
     "cellMetadata": {},
     "inputWidgets": {},
     "nuid": "573c32be-dc2c-42f7-99e4-306e2ac7f807",
     "showTitle": false,
     "title": ""
    }
   },
   "outputs": [],
   "source": [
    "# Some functions can use multiple arguments. \n",
    "# You can tell the round() function for example how many decimal places to round to:\n",
    "round(51.63452,2)"
   ]
  },
  {
   "cell_type": "code",
   "execution_count": 0,
   "metadata": {
    "application/vnd.databricks.v1+cell": {
     "cellMetadata": {},
     "inputWidgets": {},
     "nuid": "a867e2e9-b2c3-4587-9b0e-371942166493",
     "showTitle": false,
     "title": ""
    }
   },
   "outputs": [],
   "source": [
    "# ? followed by a function name opens a help menu\n",
    "?round"
   ]
  },
  {
   "cell_type": "code",
   "execution_count": 0,
   "metadata": {
    "application/vnd.databricks.v1+cell": {
     "cellMetadata": {},
     "inputWidgets": {},
     "nuid": "96cf238b-1361-4ee6-a4e7-83fb7a25c5a0",
     "showTitle": false,
     "title": ""
    }
   },
   "outputs": [],
   "source": [
    "# When setting the arguments to a function, you can name them or rely on their default order\n",
    "round(number=51.63452, ndigits=2)"
   ]
  },
  {
   "cell_type": "code",
   "execution_count": 0,
   "metadata": {
    "application/vnd.databricks.v1+cell": {
     "cellMetadata": {},
     "inputWidgets": {},
     "nuid": "5aa276db-a6cb-4db7-9bf6-450620ccae12",
     "showTitle": false,
     "title": ""
    }
   },
   "outputs": [],
   "source": [
    "round( ndigits=2, number=51.63452)"
   ]
  },
  {
   "cell_type": "code",
   "execution_count": 0,
   "metadata": {
    "application/vnd.databricks.v1+cell": {
     "cellMetadata": {},
     "inputWidgets": {},
     "nuid": "9af33cfd-6aff-44df-b61b-eb9a57b975dc",
     "showTitle": false,
     "title": ""
    }
   },
   "outputs": [],
   "source": [
    "# \"SyntaxError\" here, because the function expects the unnamed second argument to be ndigits.\n",
    "# So be careful when defining function arguments based on position!\n",
    "round( ndigits=2, 51.63452) "
   ]
  },
  {
   "cell_type": "code",
   "execution_count": 0,
   "metadata": {
    "application/vnd.databricks.v1+cell": {
     "cellMetadata": {},
     "inputWidgets": {},
     "nuid": "1b9a1373-1f7a-4bb4-b85d-4f27f24533d6",
     "showTitle": false,
     "title": ""
    }
   },
   "outputs": [],
   "source": [
    "len(lst)"
   ]
  },
  {
   "cell_type": "markdown",
   "metadata": {
    "application/vnd.databricks.v1+cell": {
     "cellMetadata": {},
     "inputWidgets": {},
     "nuid": "9026d12d-78f1-4577-ae33-6f0a9d11e782",
     "showTitle": false,
     "title": ""
    }
   },
   "source": [
    "##### Challenge: Use the sum function to sum the numbers 1 to 10,000"
   ]
  },
  {
   "cell_type": "markdown",
   "metadata": {
    "application/vnd.databricks.v1+cell": {
     "cellMetadata": {},
     "inputWidgets": {},
     "nuid": "d9309493-1034-4edb-931d-bf24bb5753ad",
     "showTitle": false,
     "title": ""
    }
   },
   "source": [
    "##### Challenge: Look at documentation for the pop() function. Then practice using it!"
   ]
  },
  {
   "cell_type": "markdown",
   "metadata": {
    "application/vnd.databricks.v1+cell": {
     "cellMetadata": {},
     "inputWidgets": {},
     "nuid": "df5bde8a-a208-4bc8-9020-9ad773571e70",
     "showTitle": false,
     "title": ""
    }
   },
   "source": [
    "##### Challenge: Can you find a function that will allow you to create a list of length 100 where every element is 99? Hint: Use google!"
   ]
  },
  {
   "cell_type": "markdown",
   "metadata": {
    "application/vnd.databricks.v1+cell": {
     "cellMetadata": {},
     "inputWidgets": {},
     "nuid": "06993727-4bc1-423f-a2ea-a4ebc0be70c4",
     "showTitle": false,
     "title": ""
    }
   },
   "source": [
    "## 11. Methods <a class=\"anchor\" id=\"bullet11\"></a>"
   ]
  },
  {
   "cell_type": "markdown",
   "metadata": {
    "application/vnd.databricks.v1+cell": {
     "cellMetadata": {},
     "inputWidgets": {},
     "nuid": "da9cb0e4-d8a8-46ae-9589-822a78ca1749",
     "showTitle": false,
     "title": ""
    }
   },
   "source": [
    "Some data types allow you to use special functions called **methods**. Methods are accessed by appending a `.` to the end of an object name, followed by particular method. See below.\n",
    "\n",
    "In other words, a method is a function that is available to make our code more redable."
   ]
  },
  {
   "cell_type": "code",
   "execution_count": 0,
   "metadata": {
    "application/vnd.databricks.v1+cell": {
     "cellMetadata": {},
     "inputWidgets": {},
     "nuid": "31b3860e-676a-4675-9434-bc1f19860ada",
     "showTitle": false,
     "title": ""
    }
   },
   "outputs": [],
   "source": [
    "a = (1, 2, 3, 3, 2, 22, 1, 2)"
   ]
  },
  {
   "cell_type": "code",
   "execution_count": 0,
   "metadata": {
    "application/vnd.databricks.v1+cell": {
     "cellMetadata": {},
     "inputWidgets": {},
     "nuid": "251bf6bd-cb05-4924-9fa7-20003ada429c",
     "showTitle": false,
     "title": ""
    }
   },
   "outputs": [],
   "source": [
    "a.count(2) # a method which counts the number of 2s"
   ]
  },
  {
   "cell_type": "code",
   "execution_count": 0,
   "metadata": {
    "application/vnd.databricks.v1+cell": {
     "cellMetadata": {},
     "inputWidgets": {},
     "nuid": "8af2fbc6-1348-42ad-b156-9a019cb73162",
     "showTitle": false,
     "title": ""
    }
   },
   "outputs": [],
   "source": [
    "b = 'string'\n",
    "b.replace('s', 'S')"
   ]
  },
  {
   "cell_type": "code",
   "execution_count": 0,
   "metadata": {
    "application/vnd.databricks.v1+cell": {
     "cellMetadata": {},
     "inputWidgets": {},
     "nuid": "a6d4a62f-ae6c-49f5-85c4-b520418d3eb3",
     "showTitle": false,
     "title": ""
    }
   },
   "outputs": [],
   "source": [
    "b = 'strings'\n",
    "b.replace('s', 'S')"
   ]
  },
  {
   "cell_type": "code",
   "execution_count": 0,
   "metadata": {
    "application/vnd.databricks.v1+cell": {
     "cellMetadata": {},
     "inputWidgets": {},
     "nuid": "3d9e01ef-5ca2-4938-be87-e3b8001a2080",
     "showTitle": false,
     "title": ""
    }
   },
   "outputs": [],
   "source": [
    "b # Be aware that sometimes when you call a function/method, it may not neccessarily update the underlying object"
   ]
  },
  {
   "cell_type": "markdown",
   "metadata": {
    "application/vnd.databricks.v1+cell": {
     "cellMetadata": {},
     "inputWidgets": {},
     "nuid": "a5d899f8-4cb3-4524-bb88-c98830ecda9d",
     "showTitle": false,
     "title": ""
    }
   },
   "source": [
    "There is a difference between working with a view of a data object and a copy of that data object. See the data camp chapter 2 slide I posted, where there are several good slides and visuals on this. This is tricky, and takes some getting used to. "
   ]
  },
  {
   "cell_type": "markdown",
   "metadata": {
    "application/vnd.databricks.v1+cell": {
     "cellMetadata": {},
     "inputWidgets": {},
     "nuid": "48ad82c6-f55c-4557-ad70-c7e498508323",
     "showTitle": false,
     "title": ""
    }
   },
   "source": [
    "The main difference between a copy and a view of an array is that the copy is a new array, and the view is just a view of the original array. The copy owns the data and any changes made to the copy will not affect original array, and any changes made to the original array will not affect the copy. \n",
    "\n",
    "The command `b.replace('s', 'S')` creates a view of the `b` array where we capitalize the lower case s wherever it appears.  But this command is not being saved to the original array."
   ]
  },
  {
   "cell_type": "code",
   "execution_count": 0,
   "metadata": {
    "application/vnd.databricks.v1+cell": {
     "cellMetadata": {},
     "inputWidgets": {},
     "nuid": "8eaee260-5f35-43c4-a225-6f971ca12ba4",
     "showTitle": false,
     "title": ""
    }
   },
   "outputs": [],
   "source": [
    "x = [\"a\", \"b\", \"c\"]\n",
    "print(x)"
   ]
  },
  {
   "cell_type": "code",
   "execution_count": 0,
   "metadata": {
    "application/vnd.databricks.v1+cell": {
     "cellMetadata": {},
     "inputWidgets": {},
     "nuid": "bce49059-0fcd-458f-9d14-3356cb98eee6",
     "showTitle": false,
     "title": ""
    }
   },
   "outputs": [],
   "source": [
    "y = x\n",
    "y[1] = \"z\"\n",
    "print(y)"
   ]
  },
  {
   "cell_type": "code",
   "execution_count": 0,
   "metadata": {
    "application/vnd.databricks.v1+cell": {
     "cellMetadata": {},
     "inputWidgets": {},
     "nuid": "a33a22d3-15b2-44ed-8f21-a84ba89140c7",
     "showTitle": false,
     "title": ""
    }
   },
   "outputs": [],
   "source": [
    "print(x) # x and y are referring to the same underlying object, so when you update y \n",
    "         # it is going to update x since they are both pointing to the same data array"
   ]
  },
  {
   "cell_type": "code",
   "execution_count": 0,
   "metadata": {
    "application/vnd.databricks.v1+cell": {
     "cellMetadata": {},
     "inputWidgets": {},
     "nuid": "0dce42fa-7338-439e-a8b4-e81c63385be5",
     "showTitle": false,
     "title": ""
    }
   },
   "outputs": [],
   "source": [
    "x = [\"a\", \"b\", \"c\"]\n",
    "y = list(x)  # this creates a separate copy, so y and x are now stored as separate objects in your PC's memory\n",
    "y[1] = \"z\"\n",
    "print(x)\n",
    "print(y)"
   ]
  },
  {
   "cell_type": "code",
   "execution_count": 0,
   "metadata": {
    "application/vnd.databricks.v1+cell": {
     "cellMetadata": {},
     "inputWidgets": {},
     "nuid": "9de14ad2-5439-4ae3-9987-27a72e3a1a33",
     "showTitle": false,
     "title": ""
    }
   },
   "outputs": [],
   "source": [
    "x = [\"a\", \"b\", \"c\"]\n",
    "y = x[:]  # A 2nd way to create a separate copy\n",
    "y[1] = \"z\"\n",
    "print(x)\n",
    "print(y)"
   ]
  },
  {
   "cell_type": "code",
   "execution_count": 0,
   "metadata": {
    "application/vnd.databricks.v1+cell": {
     "cellMetadata": {},
     "inputWidgets": {},
     "nuid": "24816027-5673-42d8-af91-22ed31988ffa",
     "showTitle": false,
     "title": ""
    }
   },
   "outputs": [],
   "source": [
    "a.replace(1, 99)  # methods depend on data types! Because tuples are immutable, we cannot use the replace method"
   ]
  },
  {
   "cell_type": "code",
   "execution_count": 0,
   "metadata": {
    "application/vnd.databricks.v1+cell": {
     "cellMetadata": {},
     "inputWidgets": {},
     "nuid": "253b8003-0b1a-42c9-a990-2155b26141fc",
     "showTitle": false,
     "title": ""
    }
   },
   "outputs": [],
   "source": [
    "a.append(2) # We also cannot append to tuples since tuples are immutable"
   ]
  },
  {
   "cell_type": "code",
   "execution_count": 0,
   "metadata": {
    "application/vnd.databricks.v1+cell": {
     "cellMetadata": {},
     "inputWidgets": {},
     "nuid": "22252d78-029b-4b66-a9e0-cb48670511c4",
     "showTitle": false,
     "title": ""
    }
   },
   "outputs": [],
   "source": [
    "c = [1, 2, 3, 4, 4, 4, 4]\n",
    "c.append(5)   # The append method can modify list objects however\n",
    "c"
   ]
  },
  {
   "cell_type": "code",
   "execution_count": 0,
   "metadata": {
    "application/vnd.databricks.v1+cell": {
     "cellMetadata": {},
     "inputWidgets": {},
     "nuid": "98bc8ee3-ee68-4639-83db-cc890532004b",
     "showTitle": false,
     "title": ""
    }
   },
   "outputs": [],
   "source": [
    "c.remove(4) # the remove method removes the first element which is an integer 4 data type\n",
    "c"
   ]
  },
  {
   "cell_type": "markdown",
   "metadata": {
    "application/vnd.databricks.v1+cell": {
     "cellMetadata": {},
     "inputWidgets": {},
     "nuid": "bd47036d-287f-4487-9b93-d625889ae6f7",
     "showTitle": false,
     "title": ""
    }
   },
   "source": [
    "## 12. Installing Other Python Packages <a class=\"anchor\" id=\"bullet12\"></a>"
   ]
  },
  {
   "cell_type": "markdown",
   "metadata": {
    "application/vnd.databricks.v1+cell": {
     "cellMetadata": {},
     "inputWidgets": {},
     "nuid": "6dac05f2-0159-4655-a11a-4e08defd33eb",
     "showTitle": false,
     "title": ""
    }
   },
   "source": [
    "In general, you should not need to install many, if any, extra python packages when you use the Anaconda distribution. This is because it already comes with the most popular packages that people use! \n",
    "\n",
    "But, you can install packages from the Anaconda Prompt with the following code `pip install package_name`\n",
    "For example, if you want to install the **pyautogui** library, open your conda terminal and paste in the following code:\n",
    "`pip install pyautogui`"
   ]
  }
 ],
 "metadata": {
  "application/vnd.databricks.v1+notebook": {
   "dashboards": [],
   "language": "python",
   "notebookMetadata": {
    "pythonIndentUnit": 4
   },
   "notebookName": "test",
   "widgets": {}
  },
  "kernelspec": {
   "display_name": "Python 3 (ipykernel)",
   "language": "python",
   "name": "python3"
  },
  "language_info": {
   "codemirror_mode": {
    "name": "ipython",
    "version": 3
   },
   "file_extension": ".py",
   "mimetype": "text/x-python",
   "name": "python",
   "nbconvert_exporter": "python",
   "pygments_lexer": "ipython3",
   "version": "3.9.13"
  }
 },
 "nbformat": 4,
 "nbformat_minor": 0
}
